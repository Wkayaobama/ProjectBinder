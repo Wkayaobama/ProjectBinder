{
 "cells": [
  {
   "cell_type": "markdown",
   "id": "standing-glossary",
   "metadata": {
    "id": "standing-glossary"
   },
   "source": [
    "![Emil](data:image/png;base64,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)"
   ]
  },
  {
   "cell_type": "markdown",
   "id": "massive-celtic",
   "metadata": {
    "id": "massive-celtic",
    "tags": [
     "hide"
    ]
   },
   "source": [
    "# Visualization Part 2 \n",
    "\n",
    " The objective of this TD is: \n",
    " - Create your first widget \n",
    " - Add interactivity elements to a Plotly graphic \n",
    " - Trash the interactive visualization notebook in webapp (web application) with here \n",
    " - Deploy and share this web application with Ngrok"
   ]
  },
  {
   "cell_type": "markdown",
   "id": "RMyCwiRJHeST",
   "metadata": {
    "id": "RMyCwiRJHeST",
    "tags": [
     "hide"
    ]
   },
   "source": [
    "# 1) Creation of a first widget"
   ]
  },
  {
   "cell_type": "markdown",
   "id": "3gJIz75KIHHP",
   "metadata": {
    "id": "3gJIz75KIHHP",
    "tags": [
     "hide"
    ]
   },
   "source": [
    "a) Installation of the Pywi bookstore"
   ]
  },
  {
   "cell_type": "code",
   "execution_count": null,
   "id": "EsRq6FkOH2_Q",
   "metadata": {
    "id": "EsRq6FkOH2_Q",
    "tags": [
     "hide"
    ]
   },
   "outputs": [],
   "source": [
    "import sys\n",
    "!{sys.executable} -m pip install ipywidgets statsmodels"
   ]
  },
  {
   "cell_type": "markdown",
   "id": "u2PuQBW2I0df",
   "metadata": {
    "id": "u2PuQBW2I0df",
    "tags": [
     "hide"
    ]
   },
   "source": [
    "b) Perform the code below to import the bookstore and rename it widgets. We will use"
   ]
  },
  {
   "cell_type": "code",
   "execution_count": null,
   "id": "mkVdYneZI6lV",
   "metadata": {
    "id": "mkVdYneZI6lV"
   },
   "outputs": [],
   "source": [
    "import ipywidgets as widgets\n",
    "from IPython.display import display"
   ]
  },
  {
   "cell_type": "markdown",
   "id": "62DY3UYiJBHb",
   "metadata": {
    "id": "62DY3UYiJBHb",
    "tags": [
     "hide"
    ]
   },
   "source": [
    "c) La liste complète des widgets disponible est disponible à [cette adresse](https://ipywidgets.readthedocs.io/en/latest/examples/Widget%20List.html).\n",
    "\n",
    "A l'aide de cette documentation, construisez une variable `my_int_slider` qui contiendra un widget \"IntSlider\" avec 5 comme valeur par défaut, 1 en minimum et 20 en maximum. On pourra laisser step égal à 1 comme niveau d'incrément.\n",
    "\n",
    "Utilisez la fonction \"display\" pour l'afficher.\n",
    "        "
   ]
  },
  {
   "cell_type": "code",
   "execution_count": null,
   "id": "HAk2kxWVJjhS",
   "metadata": {
    "id": "HAk2kxWVJjhS",
    "tags": [
     "hide"
    ]
   },
   "outputs": [],
   "source": [
    "my_int_slider = # à compléter\n",
    "\n",
    "display(my_int_slider)"
   ]
  },
  {
   "cell_type": "markdown",
   "id": "Fn2t2Q1kKO3i",
   "metadata": {
    "id": "Fn2t2Q1kKO3i",
    "tags": [
     "hide"
    ]
   },
   "source": [
    "d) What does the result of this operation correspond to?"
   ]
  },
  {
   "cell_type": "code",
   "execution_count": null,
   "id": "XR_bgeKrKP7l",
   "metadata": {
    "id": "XR_bgeKrKP7l",
    "tags": [
     "hide"
    ]
   },
   "outputs": [],
   "source": [
    "my_int_slider.keys"
   ]
  },
  {
   "cell_type": "markdown",
   "id": "WjcZVutEMSit",
   "metadata": {
    "id": "WjcZVutEMSit",
    "tags": [
     "hide"
    ]
   },
   "source": [
    "e) Deduce how to display the value of the Slider. \n",
    "\n",
    " Vary the value of the slider and check that by performing the line of code again, the value has changed well."
   ]
  },
  {
   "cell_type": "code",
   "execution_count": null,
   "id": "xpI0CI30MOhQ",
   "metadata": {
    "id": "xpI0CI30MOhQ",
    "tags": [
     "hide"
    ]
   },
   "outputs": [],
   "source": [
    "# à compléter"
   ]
  },
  {
   "cell_type": "markdown",
   "id": "Ng7DW66fNdtO",
   "metadata": {
    "id": "Ng7DW66fNdtO",
    "tags": [
     "hide"
    ]
   },
   "source": [
    "# 2) Creation of an User Form"
   ]
  },
  {
   "cell_type": "markdown",
   "id": "F3c0hqFlyJq2",
   "metadata": {
    "id": "F3c0hqFlyJq2",
    "tags": [
     "hide"
    ]
   },
   "source": [
    "Widgets can be used to create user forms for end users. \n",
    "\n",
    " The purpose of this exercise is to build a tool that allows you to select to select a stock market index to display a scatter plot with the AAPPL Apple index."
   ]
  },
  {
   "cell_type": "markdown",
   "id": "sO5cQcg7lRiA",
   "metadata": {
    "id": "sO5cQcg7lRiA",
    "tags": [
     "hide"
    ]
   },
   "source": [
    "a) Import the following bookstores"
   ]
  },
  {
   "cell_type": "code",
   "execution_count": null,
   "id": "FUgkOiJrOUIH",
   "metadata": {
    "id": "FUgkOiJrOUIH"
   },
   "outputs": [],
   "source": [
    "import pandas as pd\n",
    "import plotly.express as px\n",
    "from ipywidgets import interact, interactive, fixed, interactive_output\n",
    "import io"
   ]
  },
  {
   "cell_type": "markdown",
   "id": "mZ5Qvw_ulZLV",
   "metadata": {
    "id": "mZ5Qvw_ulZLV",
    "tags": [
     "hide"
    ]
   },
   "source": [
    "b) In a variable `my_upload_widget`, create a Fileupload type widget which accepts the .csv extension and a single file at a time. Then test the import of this file [CSV Example] (https://drive.google.com/file/d/1bwmyhbp6pnxb-szttyre8gmszd0gop4/view?usp=sharing)."
   ]
  },
  {
   "cell_type": "code",
   "execution_count": null,
   "id": "HnQifhG-N228",
   "metadata": {
    "id": "HnQifhG-N228",
    "tags": [
     "hide"
    ]
   },
   "outputs": [],
   "source": [
    "my_upload_widget = # à compléter\n",
    "\n",
    "display(my_upload_widget)"
   ]
  },
  {
   "cell_type": "markdown",
   "id": "j32h2Vdemc9X",
   "metadata": {
    "id": "j32h2Vdemc9X",
    "tags": [
     "hide"
    ]
   },
   "source": [
    "c) The output data is a bit difficult to extract. \n",
    "\n",
    " Run the code below to save time and ask your questions to the teacher."
   ]
  },
  {
   "cell_type": "code",
   "execution_count": null,
   "id": "PCv0MyUTQUDh",
   "metadata": {
    "id": "PCv0MyUTQUDh",
    "tags": [
     "hide"
    ]
   },
   "outputs": [],
   "source": [
    "df = pd.read_csv(io.BytesIO(list(my_upload_widget.value.values())[0][\"content\"]))\n",
    "df"
   ]
  },
  {
   "cell_type": "markdown",
   "id": "F0gp2tb9q_Zn",
   "metadata": {
    "id": "F0gp2tb9q_Zn",
    "tags": [
     "hide"
    ]
   },
   "source": [
    "d) Present in a Plotly scatter graphic the data from Goog Versus App with a trend curve (trendlines = 'ols') to see the correlation between these two indices."
   ]
  },
  {
   "cell_type": "code",
   "execution_count": null,
   "id": "WXy8KEX6TjjX",
   "metadata": {
    "id": "WXy8KEX6TjjX",
    "tags": [
     "hide"
    ]
   },
   "outputs": [],
   "source": [
    "fig = # à compléter\n",
    "fig.show()"
   ]
  },
  {
   "cell_type": "markdown",
   "id": "cAqDm7ZJrU0h",
   "metadata": {
    "id": "cAqDm7ZJrU0h",
    "tags": [
     "hide"
    ]
   },
   "source": [
    "e) Create a FINANCE_SCATTER_WIDGET 'function which will take the DF, X and Y parameters as input, it will display the graphic created previously for column names X and Y."
   ]
  },
  {
   "cell_type": "code",
   "execution_count": null,
   "id": "LalrhfXQUoAq",
   "metadata": {
    "id": "LalrhfXQUoAq",
    "tags": [
     "hide"
    ]
   },
   "outputs": [],
   "source": [
    "def financial_scatter_widget(df, x=None, y=None):\n",
    "    # à compléter\n",
    "\n",
    "financial_scatter_widget(df, x=\"GOOG\", y=\"AAPL\")"
   ]
  },
  {
   "cell_type": "markdown",
   "id": "dAShy3heryPS",
   "metadata": {
    "id": "dAShy3heryPS",
    "tags": [
     "hide"
    ]
   },
   "source": [
    "f) The idea is to give the user's hand to choose which index he wishes to check the correlation with the App. \n",
    "\n",
    " Create a Dropdown type widget, which will select the name of a column of the Dataframe created."
   ]
  },
  {
   "cell_type": "code",
   "execution_count": null,
   "id": "pgZk5vVwWekU",
   "metadata": {
    "id": "pgZk5vVwWekU",
    "tags": [
     "hide"
    ]
   },
   "outputs": [],
   "source": [
    "x_dropdown = widgets.Dropdown(\n",
    "    options=# à compléter,\n",
    "    value='AAPL',\n",
    "    description='AAPL vs ',\n",
    "    style= {'description_width': 'initial'},\n",
    "    disabled=False,\n",
    ")\n",
    "display(x_dropdown)"
   ]
  },
  {
   "cell_type": "markdown",
   "id": "R3DQnyBOsSgs",
   "metadata": {
    "id": "R3DQnyBOsSgs",
    "tags": [
     "hide"
    ]
   },
   "source": [
    "g) Using the Interact () `Widgets function, have the function` Financial_Scatter_Widget` as a function of the chosen column. \n",
    "\n",
    " We will fix the parameters `Df` = the recovered dataframa of the upload and` y '= \"app\" using the fixed () function."
   ]
  },
  {
   "cell_type": "code",
   "execution_count": null,
   "id": "KRca1-0LXijC",
   "metadata": {
    "id": "KRca1-0LXijC",
    "tags": [
     "hide"
    ]
   },
   "outputs": [],
   "source": [
    "widgets.interact(\n",
    "    # à compléter\n",
    ")"
   ]
  },
  {
   "cell_type": "markdown",
   "id": "6ols1aB77KAk",
   "metadata": {
    "id": "6ols1aB77KAk",
    "tags": [
     "hide"
    ]
   },
   "source": [
    "# 3) Creation of the restaurateur dashboard"
   ]
  },
  {
   "cell_type": "markdown",
   "id": "s9PZQ50c8jFB",
   "metadata": {
    "id": "s9PZQ50c8jFB",
    "tags": [
     "hide"
    ]
   },
   "source": [
    "We will resume the visualizations made at the last TP and add two interaction elements, the restaurant ID and the dates of the selected period."
   ]
  },
  {
   "cell_type": "markdown",
   "id": "h8eYBstn9hkD",
   "metadata": {
    "id": "h8eYBstn9hkD",
    "tags": [
     "hide"
    ]
   },
   "source": [
    "a) We will resume data from the previous TP. If necessary, you can again download them to [this address] (https://drive.google.com/file/d/1x5uxvfrl7sumuke7cjaicgeohokorh2/view?usp=sharing)."
   ]
  },
  {
   "cell_type": "markdown",
   "id": "wOBczP1h9wS9",
   "metadata": {
    "id": "wOBczP1h9wS9",
    "tags": [
     "hide"
    ]
   },
   "source": [
    "b) Execute the following data of data preprocessing."
   ]
  },
  {
   "cell_type": "code",
   "execution_count": null,
   "id": "8MixBVyk_9eU",
   "metadata": {
    "id": "8MixBVyk_9eU"
   },
   "outputs": [],
   "source": [
    "df = pd.read_csv(\"Tiller_order_data.csv\")\n",
    "\n",
    "# Transforme les dates en format datetime\n",
    "df[\"date_opened\"] = pd.to_datetime(df[\"date_opened\"])\n",
    "df[\"date_closed\"] = pd.to_datetime(df[\"date_closed\"])\n",
    "\n",
    "# Mettre en index la date d'ouverture de commande\n",
    "df = df.set_index(df[\"date_opened\"])"
   ]
  },
  {
   "cell_type": "code",
   "execution_count": null,
   "id": "e57f169b",
   "metadata": {
    "id": "e57f169b",
    "tags": [
     "hide"
    ]
   },
   "outputs": [],
   "source": [
    "df"
   ]
  },
  {
   "cell_type": "markdown",
   "id": "WiCYZ1dmAPAg",
   "metadata": {
    "id": "WiCYZ1dmAPAg",
    "tags": [
     "hide"
    ]
   },
   "source": [
    "c) Perform the code below which determines the Restaurant ID and the dates of the desired period. These are the parameters that we will make selectable thanks to the widgets."
   ]
  },
  {
   "cell_type": "code",
   "execution_count": null,
   "id": "NWlGfgvAAi7x",
   "metadata": {
    "id": "NWlGfgvAAi7x",
    "tags": [
     "hide"
    ]
   },
   "outputs": [],
   "source": [
    "id_store = 8052\n",
    "date_debut = \"2019-10-01\"\n",
    "date_fin = \"2021-12-31\"\n",
    "\n",
    "df_store = df[(df.id_store == id_store) & (df.date_opened >= date_debut) & (df.date_closed < date_fin)]\n",
    "df_store.shape"
   ]
  },
  {
   "cell_type": "markdown",
   "id": "D0PV9ce0CnFM",
   "metadata": {
    "id": "D0PV9ce0CnFM",
    "tags": [
     "hide"
    ]
   },
   "source": [
    "d) Change the previous code using two widgets, a dropdown menu to choose the restaurant and a picker date to choose the start and end date of the period you want to analyze."
   ]
  },
  {
   "cell_type": "markdown",
   "id": "ZsTHHCmoF7HW",
   "metadata": {
    "id": "ZsTHHCmoF7HW",
    "tags": [
     "hide"
    ]
   },
   "source": [
    "Create the variable `Id_Store_dropdown 'with a Dropdown type widget:"
   ]
  },
  {
   "cell_type": "code",
   "execution_count": null,
   "id": "p_IH0i9wC4Hd",
   "metadata": {
    "id": "p_IH0i9wC4Hd"
   },
   "outputs": [],
   "source": [
    "id_store_dropdown = widgets.Dropdown(\n",
    "    # à compléter\n",
    ")"
   ]
  },
  {
   "cell_type": "code",
   "execution_count": null,
   "id": "a1bf45f2",
   "metadata": {
    "id": "a1bf45f2",
    "tags": [
     "hide"
    ]
   },
   "outputs": [],
   "source": [
    "display(id_store_dropdown)"
   ]
  },
  {
   "cell_type": "markdown",
   "id": "D6mDlvftGDvg",
   "metadata": {
    "id": "D6mDlvftGDvg",
    "tags": [
     "hide"
    ]
   },
   "source": [
    "Create the variable `Date_debut_picker 'with a DatePicker type widget:"
   ]
  },
  {
   "cell_type": "code",
   "execution_count": null,
   "id": "dwp-hosNFSF6",
   "metadata": {
    "id": "dwp-hosNFSF6"
   },
   "outputs": [],
   "source": [
    "date_debut_picker = widgets.DatePicker(\n",
    "    # à compléter\n",
    ")"
   ]
  },
  {
   "cell_type": "code",
   "execution_count": null,
   "id": "a2dbf792",
   "metadata": {
    "id": "a2dbf792",
    "tags": [
     "hide"
    ]
   },
   "outputs": [],
   "source": [
    "display(date_debut_picker)"
   ]
  },
  {
   "cell_type": "markdown",
   "id": "zN8rzhIVGXpF",
   "metadata": {
    "id": "zN8rzhIVGXpF",
    "tags": [
     "hide"
    ]
   },
   "source": [
    "Create the variable `Date_fin_picker 'with a DatePicker type widget:"
   ]
  },
  {
   "cell_type": "code",
   "execution_count": null,
   "id": "yZnBjzFXGXOC",
   "metadata": {
    "id": "yZnBjzFXGXOC"
   },
   "outputs": [],
   "source": [
    "date_fin_picker = widgets.DatePicker(\n",
    "    # à compléter\n",
    ")"
   ]
  },
  {
   "cell_type": "code",
   "execution_count": null,
   "id": "0b557e89",
   "metadata": {
    "id": "0b557e89",
    "tags": [
     "hide"
    ]
   },
   "outputs": [],
   "source": [
    "display(date_fin_picker)"
   ]
  },
  {
   "cell_type": "markdown",
   "id": "2iw1bAiOAAyC",
   "metadata": {
    "id": "2iw1bAiOAAyC",
    "tags": [
     "hide"
    ]
   },
   "source": [
    "e) Perform the following code to transform all the visualizations made to the previous TP in functions"
   ]
  },
  {
   "cell_type": "code",
   "execution_count": null,
   "id": "77839b33",
   "metadata": {
    "id": "77839b33",
    "scrolled": false
   },
   "outputs": [],
   "source": [
    "import plotly.graph_objects as go\n",
    "\n",
    "def revenue_over_time(df_store):\n",
    "    df_revenue = df_store[df_store.dim_status==\"CLOSED\"].resample(\"D\").m_cached_payed.sum()\n",
    "\n",
    "    fig = px.line(df_revenue,\n",
    "                  y=\"m_cached_payed\",\n",
    "                  title=\"Chiffre d'affaire au cours du temps\")\n",
    "    fig.update_xaxes(\n",
    "        rangeselector=dict(\n",
    "            buttons=list([\n",
    "                dict(count=7, label=\"Last 7days\", step=\"day\", stepmode=\"backward\"),\n",
    "                dict(count=1, label=\"1m\", step=\"month\", stepmode=\"backward\"),\n",
    "                dict(count=6, label=\"6m\", step=\"month\", stepmode=\"backward\"),\n",
    "                dict(count=1, label=\"YTD\", step=\"year\", stepmode=\"todate\"),\n",
    "                dict(count=1, label=\"1y\", step=\"year\", stepmode=\"backward\"),\n",
    "                dict(step=\"all\")\n",
    "            ])\n",
    "        )\n",
    "    )\n",
    "    fig.show()\n",
    "\n",
    "def clients_over_time(df_store):\n",
    "    df_revenue = df_store[df_store.dim_status==\"CLOSED\"].resample(\"D\").m_cached_payed.sum()\n",
    "    df_nb_customer = df_store[df_store.dim_status==\"CLOSED\"].resample(\"D\")[\"m_nb_customer\"].sum()\n",
    "\n",
    "    df_average_basket = df_revenue / df_nb_customer\n",
    "\n",
    "    fig_panier_moyen = go.Scatter(x=df_average_basket.index,\n",
    "                                  y=df_average_basket,\n",
    "                                  name=\"panier moyen\",\n",
    "                                  mode=\"lines\",\n",
    "                                  line_color=\"#000000\")\n",
    "\n",
    "    fig = px.bar(df_nb_customer,\n",
    "                 title=\"Nombre de clients au cours du temps\")\n",
    "    fig.add_trace(fig_panier_moyen)\n",
    "    fig.update_xaxes(tickformat=\"%d/%m/%Y\")\n",
    "    fig.update_xaxes(\n",
    "        rangeselector=dict(\n",
    "            buttons=list([\n",
    "                dict(count=1, label=\"1m\", step=\"month\", stepmode=\"backward\"),\n",
    "                dict(count=6, label=\"6m\", step=\"month\", stepmode=\"backward\"),\n",
    "                dict(count=1, label=\"YTD\", step=\"year\", stepmode=\"todate\"),\n",
    "                dict(count=1, label=\"1y\", step=\"year\", stepmode=\"backward\"),\n",
    "                dict(step=\"all\")\n",
    "            ])\n",
    "        )\n",
    "    )\n",
    "    fig.show()\n",
    "\n",
    "def best_staff(df_store):\n",
    "    df_store.loc[df_store[\"id_waiter\"].isnull(), \"id_waiter\"] = \"unknown\"\n",
    "\n",
    "    df_waiter = df_store.groupby(\"id_waiter\", as_index=False)[\"m_cached_payed\"].sum()\n",
    "\n",
    "    fig = px.pie(\n",
    "        df_waiter,\n",
    "        names='id_waiter',\n",
    "        values='m_cached_payed',\n",
    "        color='id_waiter',\n",
    "        title = 'Répartition des commandes non enregistrées par un serveur'\n",
    "    )\n",
    "    fig.update_traces(\n",
    "        textinfo='percent+label'\n",
    "    )\n",
    "    fig.show()"
   ]
  },
  {
   "cell_type": "markdown",
   "id": "c87eb8a7",
   "metadata": {
    "id": "c87eb8a7",
    "tags": [
     "hide"
    ]
   },
   "source": [
    "f) Interact the previously created widgets, via the 'Interact' function, with the 'Display_Dash' function. \n",
    "\n",
    " This 'Display_Dash' function filters the initial data according to the values specified in the three widgets, and then calls the visualizations above to display them from the filtered dataframa. \n",
    "\n",
    " You must therefore, in this function 'Display_dash': \n",
    " - Filter the Dataframe Iniitial (DF) as a function of the values of the widgets id_store_dropdown, date_debut_picker and date_fin_picker \n",
    " - Call the duties returned_over_time, customers_over_time and best_staff"
   ]
  },
  {
   "cell_type": "code",
   "execution_count": null,
   "id": "28341e3e",
   "metadata": {
    "id": "28341e3e"
   },
   "outputs": [],
   "source": [
    "def display_dash(df, id_store_dropdown, date_debut_picker, date_fin_picker):\n",
    "    df_filtered = # à compléter\n",
    "    # Appel des fonctions revenue_over_time, clients_by_time et best_staff :\n",
    "    # à compléter"
   ]
  },
  {
   "cell_type": "code",
   "execution_count": null,
   "id": "5c89a3f8",
   "metadata": {
    "id": "5c89a3f8",
    "tags": [
     "hide"
    ]
   },
   "outputs": [],
   "source": [
    "out = interactive_output(\n",
    "    display_dash,\n",
    "    {\n",
    "        'df': fixed(df),\n",
    "        'id_store_dropdown': id_store_dropdown,\n",
    "        'date_debut_picker': date_debut_picker,\n",
    "        'date_fin_picker': date_fin_picker\n",
    "    }\n",
    ")\n",
    "display(ui, out)"
   ]
  },
  {
   "cell_type": "markdown",
   "id": "I7ZM1n6CDPJn",
   "metadata": {
    "id": "I7ZM1n6CDPJn",
    "tags": [
     "hide"
    ]
   },
   "source": [
    "g) Organize your dashboard using HBOX and VBOX from the Widgets bookstore. \n",
    "\n",
    " They make it possible to manage the arrangement of the different visualizations: \n",
    " - Place the widget on the first line: id_store_dropdown \n",
    " - Place on the second line the widgets Date_debut_picker and Date_fin_picker"
   ]
  },
  {
   "cell_type": "code",
   "execution_count": null,
   "id": "2ac3e0aa",
   "metadata": {
    "id": "2ac3e0aa"
   },
   "outputs": [],
   "source": [
    "from ipywidgets import HBox, VBox"
   ]
  },
  {
   "cell_type": "code",
   "execution_count": null,
   "id": "7b0e693d",
   "metadata": {
    "id": "7b0e693d",
    "scrolled": false
   },
   "outputs": [],
   "source": [
    "ui = # à compléter"
   ]
  },
  {
   "cell_type": "code",
   "execution_count": null,
   "id": "a83e6cdb",
   "metadata": {
    "id": "a83e6cdb",
    "tags": [
     "hide"
    ]
   },
   "outputs": [],
   "source": [
    "ui"
   ]
  },
  {
   "cell_type": "markdown",
   "id": "fbb5533c",
   "metadata": {
    "id": "fbb5533c",
    "tags": [
     "hide"
    ]
   },
   "source": [
    "h) Now use the function ['interactive_output'] (https://ipywidgets.readthedocs.io/en/latest/example/using%20interact.html#more-control-over-ser-user-interface:-interactive_output). \n",
    " This function allows you to be more flexible on the layout of the widgets."
   ]
  },
  {
   "cell_type": "code",
   "execution_count": null,
   "id": "1342d31d",
   "metadata": {
    "id": "1342d31d"
   },
   "outputs": [],
   "source": [
    "out = interactive_output(\n",
    "    # à compléter\n",
    ")\n",
    "display(ui, out)"
   ]
  },
  {
   "cell_type": "markdown",
   "id": "DIfWZLIrDuks",
   "metadata": {
    "id": "DIfWZLIrDuks",
    "tags": [
     "hide"
    ]
   },
   "source": [
    "i) Check that everything works well by changing the restaurant ID and the dates of the period. \n",
    " If everything works, well done you created your first dashboard under Python!"
   ]
  },
  {
   "cell_type": "markdown",
   "id": "popular-munich",
   "metadata": {
    "id": "popular-munich",
    "tags": [
     "hide"
    ]
   },
   "source": [
    "# 4) Transformation of the notebook in web application with here"
   ]
  },
  {
   "cell_type": "markdown",
   "id": "lG17wy9w3ds5",
   "metadata": {
    "id": "lG17wy9w3ds5",
    "tags": [
     "hide"
    ]
   },
   "source": [
    "Now that we have all the elements for our user dashboard, we will convert our notebook into a web application so that we can execute it locally and be able to interract with the elements."
   ]
  },
  {
   "cell_type": "markdown",
   "id": "popular-force",
   "metadata": {
    "id": "popular-force",
    "tags": [
     "hide"
    ]
   },
   "source": [
    "a) Start by installing [voila] (https://github.com/voila-dashboards/voila)"
   ]
  },
  {
   "cell_type": "code",
   "execution_count": null,
   "id": "southwest-whale",
   "metadata": {
    "id": "southwest-whale",
    "tags": [
     "hide"
    ]
   },
   "outputs": [],
   "source": [
    "import sys\n",
    "!{sys.executable} -m pip install voila"
   ]
  },
  {
   "cell_type": "markdown",
   "id": "novel-situation",
   "metadata": {
    "id": "novel-situation",
    "tags": [
     "hide"
    ]
   },
   "source": [
    "b) Mark all the cells to keep only the cells of exercise 3, in order to display only the dashboard of this part. \n",
    "\n",
    " To do this, you will have to tag the cells beforehand with a tag name. We will choose the tag `hide` in this example. \n",
    "\n",
    " To do this, click on \"Display\" -> \"cell toolbar\" -> \"tags\" \n",
    "\n",
    " (Ah ... wait, it's already done! We save you time)"
   ]
  },
  {
   "cell_type": "markdown",
   "id": "declared-nerve",
   "metadata": {
    "id": "declared-nerve",
    "tags": [
     "hide"
    ]
   },
   "source": [
    "c) From a terminal, launch the command: \n",
    " `` ` \n",
    " Here is -TagremovePreProcessor.remove_Cell_tags hide CE_NoteBook.ipynb \n",
    " `` `"
   ]
  },
  {
   "cell_type": "markdown",
   "id": "nominated-literacy",
   "metadata": {
    "id": "nominated-literacy",
    "tags": [
     "hide"
    ]
   },
   "source": [
    "# 5) deployment of the Webapp with Ngrok"
   ]
  },
  {
   "cell_type": "markdown",
   "id": "anu-fe824zpf",
   "metadata": {
    "id": "anu-fe824zpf",
    "tags": [
     "hide"
    ]
   },
   "source": [
    "We now want to be able to share our Webapp without deploying it on a server on another computer. \n",
    "\n",
    " To do this, we will use the Ngrok bookstore, the documentation of which can be consulted at [this address] (https://voila.readthedocs.io/en/stable/deploy.html). But we will guide you in the rest of this part."
   ]
  },
  {
   "cell_type": "markdown",
   "id": "matched-catalyst",
   "metadata": {
    "id": "matched-catalyst",
    "tags": [
     "hide"
    ]
   },
   "source": [
    "a) Installer [ngrok](https://ngrok.com/download)\n",
    "\n",
    "https://ngrok.com/download"
   ]
  },
  {
   "cell_type": "markdown",
   "id": "spiritual-airfare",
   "metadata": {
    "id": "spiritual-airfare",
    "tags": [
     "hide"
    ]
   },
   "source": [
    "b) Unzippe the archive, then authenticate yourself with your token: \n",
    "\n",
    " `` `./ngrok Authtoken <token>` ``"
   ]
  },
  {
   "cell_type": "markdown",
   "id": "alien-inquiry",
   "metadata": {
    "id": "alien-inquiry",
    "tags": [
     "hide"
    ]
   },
   "source": [
    "c) Make sure that a webapp here is already launched locally (see: order here above) above)"
   ]
  },
  {
   "cell_type": "markdown",
   "id": "binding-spiritual",
   "metadata": {
    "id": "binding-spiritual",
    "tags": [
     "hide"
    ]
   },
   "source": [
    "d) Launch a tunnel on port 8866: \n",
    "\n",
    " `` `./ngrok http 8866 '' '"
   ]
  },
  {
   "cell_type": "markdown",
   "id": "revolutionary-effectiveness",
   "metadata": {
    "id": "revolutionary-effectiveness",
    "tags": [
     "hide"
    ]
   },
   "source": [
    "e) Click on the link displayed in the terminal (`` forwarding '' '). \n",
    " You can send this URL to your neighbor, it can access your Webapp!"
   ]
  },
  {
   "cell_type": "markdown",
   "id": "mature-margin",
   "metadata": {
    "id": "mature-margin",
    "tags": [
     "hide"
    ]
   },
   "source": [
    "# [Bonus] Deployment of a Webapp with Binder \n",
    "\n",
    " To be able to use [Binder] (https://jupyter.org/binder), you must first have been pushed on your notebook in a resume and have added a 'requirements.txt' file containing the bookstores necessary to run your project. \n",
    "\n",
    " Then just go to https://mybinder.org/ and: \n",
    " - In 'GitHub', copy paste the URL of your Git project \n",
    " - In 'path to a notebook file (optional)', write 'voila/render/ce_notebook.ipynb', specifying well 'url' instead of 'file'. This makes it possible to specify to Binder that you have to use directly here to create the Webapp. \n",
    "\n",
    " Then click on 'Lauch'. A docker image of your project will be created thanks to the 'requirements.txt' file. You will then have a link to launch an autonomous Docker container that will allow you to access your web application. For each user using this link, a docker container will be created."
   ]
  }
 ],
 "metadata": {
  "celltoolbar": "Format de la Cellule Texte Brut",
  "colab": {
   "collapsed_sections": [
    "KkSFTLKop6iM",
    "EgGjaCKepJOw",
    "ZL-b7nPPrYgM",
    "1JpboWV5rYgQ",
    "MtEOEcTIrr81",
    "boPW2ghDrYgV",
    "cb_xVZmBrYgV",
    "GQw6xkoUrYgY",
    "I_Qj3kaWrYgZ",
    "oZTjWY2jrYgb",
    "8ABYmAV1rYgc",
    "vOqsIYKYrYgd"
   ],
   "provenance": []
  },
  "kernelspec": {
   "display_name": "Python 3 (ipykernel)",
   "language": "python",
   "name": "python3"
  },
  "language_info": {
   "codemirror_mode": {
    "name": "ipython",
    "version": 3
   },
   "file_extension": ".py",
   "mimetype": "text/x-python",
   "name": "python",
   "nbconvert_exporter": "python",
   "pygments_lexer": "ipython3",
   "version": "3.10.13"
  }
 },
 "nbformat": 4,
 "nbformat_minor": 5
}
